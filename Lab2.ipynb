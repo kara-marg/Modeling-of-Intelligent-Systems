{
 "cells": [
  {
   "cell_type": "markdown",
   "id": "5c38114f-2546-4b2d-8516-46541dccfb3b",
   "metadata": {},
   "source": [
    "<h1>Варіант 7</h1>"
   ]
  },
  {
   "cell_type": "code",
   "execution_count": 40,
   "id": "38775205-91c2-4937-931c-1102774a0384",
   "metadata": {},
   "outputs": [],
   "source": [
    "import numpy as np\n",
    "import time"
   ]
  },
  {
   "cell_type": "markdown",
   "id": "afd24299",
   "metadata": {},
   "source": [
    "<h1>Завдання 1</h1>\n",
    "<h2>3, 4, 5, 6, 7,8, 9, 13, 19</h2>\n"
   ]
  },
  {
   "cell_type": "markdown",
   "id": "2dec4bcb",
   "metadata": {},
   "source": [
    "<h2>Вправа 3</h2>\n",
    "<p>3. Вводяться 4 числа n, m, r, c. Вивести масив розміру\n",
    "n×m, в якому в кожному рядку з номером r і в кожному стовпчику з\n",
    "номером c стоять 0, а інші елементи дорівнюють 1.</p>"
   ]
  },
  {
   "cell_type": "code",
   "execution_count": 43,
   "id": "7d6ec4ae",
   "metadata": {},
   "outputs": [
    {
     "name": "stdout",
     "output_type": "stream",
     "text": [
      "Введіть 4 числа через пробіл (n m r c): 6 7 2 3\n",
      "Результат (NumPy):\n",
      "[[1 1 1 0 1 1 1]\n",
      " [1 1 1 0 1 1 1]\n",
      " [0 0 0 0 0 0 0]\n",
      " [1 1 1 0 1 1 1]\n",
      " [1 1 1 0 1 1 1]\n",
      " [1 1 1 0 1 1 1]]\n",
      "Час виконання (NumPy): 0.0 секунд\n",
      "\n",
      "Результат (Ітеративно):\n",
      "[1, 1, 1, 0, 1, 1, 1]\n",
      "[1, 1, 1, 0, 1, 1, 1]\n",
      "[0, 0, 0, 0, 0, 0, 0]\n",
      "[1, 1, 1, 0, 1, 1, 1]\n",
      "[1, 1, 1, 0, 1, 1, 1]\n",
      "[1, 1, 1, 0, 1, 1, 1]\n",
      "Час виконання (Ітеративно): 0.0 секунд\n"
     ]
    }
   ],
   "source": [
    "def task3_numpy(n, m, r, c):\n",
    "    result_array = np.ones((n, m), dtype=int)\n",
    "    result_array[r, :] = 0\n",
    "    result_array[:, c] = 0\n",
    "    return result_array\n",
    "\n",
    "\n",
    "def task3_iterative(n, m, r, c):\n",
    "    result_array = []\n",
    "    for i in range(n):\n",
    "        row = [0 if i == r or j == c else 1 for j in range(m)]\n",
    "        result_array.append(row)\n",
    "    return result_array\n",
    "\n",
    "\n",
    "n, m, r, c = map(int, input(\"Введіть 4 числа через пробіл (n m r c): \").split())\n",
    "\n",
    "\n",
    "start_time_numpy = time.time()\n",
    "result_numpy = task3_numpy(n, m, r, c)\n",
    "end_time_numpy = time.time()\n",
    "\n",
    "\n",
    "print(\"Результат (NumPy):\")\n",
    "print(result_numpy)\n",
    "print(\"Час виконання (NumPy):\", end_time_numpy - start_time_numpy, \"секунд\")\n",
    "\n",
    "\n",
    "start_time_iterative = time.time()\n",
    "result_iterative = task3_iterative(n, m, r, c)\n",
    "end_time_iterative = time.time()\n",
    "\n",
    "\n",
    "print(\"\\nРезультат (Ітеративно):\")\n",
    "for row in result_iterative:\n",
    "    print(row)\n",
    "print(\"Час виконання (Ітеративно):\", end_time_iterative - start_time_iterative, \"секунд\")"
   ]
  },
  {
   "cell_type": "markdown",
   "id": "b0008e6b",
   "metadata": {},
   "source": [
    "<h2>Вправа 4</h2>\n",
    "<p>4. Вводяться числа n і m. Вивести масив розміру n×m, в\n",
    "якому у першому рядку (рядок з нулевим індексом) йдуть числа від 0\n",
    "до m–1, а всі інші елементи матриці дорівнюють 0.</p>"
   ]
  },
  {
   "cell_type": "code",
   "execution_count": 49,
   "id": "af7ba5f1",
   "metadata": {},
   "outputs": [
    {
     "name": "stdout",
     "output_type": "stream",
     "text": [
      "Введіть 2 числа через пробіл (n m): 3 4\n",
      "Результат (NumPy):\n",
      "[[0 1 2 3]\n",
      " [0 0 0 0]\n",
      " [0 0 0 0]]\n",
      "Час виконання (NumPy): 0.0009953975677490234 секунд\n",
      "\n",
      "Результат (Ітеративно):\n",
      "[0, 1, 2, 3]\n",
      "[0, 0, 0, 0]\n",
      "[0, 0, 0, 0]\n",
      "Час виконання (Ітеративно): 0.0 секунд\n"
     ]
    }
   ],
   "source": [
    "def task4_numpy(n, m):\n",
    "    result_array = np.zeros((n, m), dtype=int)\n",
    "    result_array[0, :] = np.arange(m)\n",
    "    return result_array\n",
    "\n",
    "\n",
    "def task4_iterative(n, m):\n",
    "    result_array = []\n",
    "    for i in range(n):\n",
    "        row = [j if i == 0 else 0 for j in range(m)]\n",
    "        result_array.append(row)\n",
    "    return result_array\n",
    "\n",
    "\n",
    "n, m = map(int, input(\"Введіть 2 числа через пробіл (n m): \").split())\n",
    "\n",
    "\n",
    "start_time_numpy = time.time()\n",
    "result_numpy = task4_numpy(n, m)\n",
    "end_time_numpy = time.time()\n",
    "\n",
    "\n",
    "print(\"Результат (NumPy):\")\n",
    "print(result_numpy)\n",
    "print(\"Час виконання (NumPy):\", end_time_numpy - start_time_numpy, \"секунд\")\n",
    "\n",
    "\n",
    "start_time_iterative = time.time()\n",
    "result_iterative = task4_iterative(n, m)\n",
    "end_time_iterative = time.time()\n",
    "\n",
    "\n",
    "print(\"\\nРезультат (Ітеративно):\")\n",
    "for row in result_iterative:\n",
    "    print(row)\n",
    "print(\"Час виконання (Ітеративно):\", end_time_iterative - start_time_iterative, \"секунд\")"
   ]
  },
  {
   "cell_type": "markdown",
   "id": "3d81955a",
   "metadata": {},
   "source": [
    "<h2>Вправа 5</h2>\n",
    "<p>Вводиться число n. Вивести масив розміру n×n, в\n",
    "якому в рядках з парними індексами стоять 1, а в інших – 0.</p>"
   ]
  },
  {
   "cell_type": "code",
   "execution_count": 50,
   "id": "67b37cfa",
   "metadata": {},
   "outputs": [
    {
     "name": "stdout",
     "output_type": "stream",
     "text": [
      "Введіть число n: 5\n",
      "Результат (NumPy):\n",
      "[[0 0 0 0 0]\n",
      " [1 1 1 1 1]\n",
      " [0 0 0 0 0]\n",
      " [1 1 1 1 1]\n",
      " [0 0 0 0 0]]\n",
      "Час виконання (NumPy): 0.0 секунд\n",
      "\n",
      "Результат (Ітеративно):\n",
      "[1, 1, 1, 1, 1]\n",
      "[0, 0, 0, 0, 0]\n",
      "[1, 1, 1, 1, 1]\n",
      "[0, 0, 0, 0, 0]\n",
      "[1, 1, 1, 1, 1]\n",
      "Час виконання (Ітеративно): 0.0009987354278564453 секунд\n"
     ]
    }
   ],
   "source": [
    "\n",
    "def task5_numpy(n):\n",
    "    result_array = np.zeros((n, n), dtype=int)\n",
    "    result_array[1::2] = 1\n",
    "    return result_array\n",
    "\n",
    "\n",
    "def task5_iterative(n):\n",
    "    result_array = []\n",
    "    for i in range(n):\n",
    "        row = [1 if i % 2 == 0 else 0 for j in range(n)]\n",
    "        result_array.append(row)\n",
    "    return result_array\n",
    "\n",
    "\n",
    "n = int(input(\"Введіть число n: \"))\n",
    "\n",
    "\n",
    "start_time_numpy = time.time()\n",
    "result_numpy = task5_numpy(n)\n",
    "end_time_numpy = time.time()\n",
    "\n",
    "\n",
    "print(\"Результат (NumPy):\")\n",
    "print(result_numpy)\n",
    "print(\"Час виконання (NumPy):\", end_time_numpy - start_time_numpy, \"секунд\")\n",
    "\n",
    "\n",
    "start_time_iterative = time.time()\n",
    "result_iterative = task5_iterative(n)\n",
    "end_time_iterative = time.time()\n",
    "\n",
    "\n",
    "print(\"\\nРезультат (Ітеративно):\")\n",
    "for row in result_iterative:\n",
    "    print(row)\n",
    "print(\"Час виконання (Ітеративно):\", end_time_iterative - start_time_iterative, \"секунд\")\n"
   ]
  },
  {
   "cell_type": "markdown",
   "id": "87108b0f",
   "metadata": {},
   "source": [
    "<h2>Вправа 6</h2>\n",
    "<p>6. З клавіатури вводиться масив. Замінити всі ненульові\n",
    "елементи на –1.</p>"
   ]
  },
  {
   "cell_type": "code",
   "execution_count": 52,
   "id": "71a9481f",
   "metadata": {},
   "outputs": [
    {
     "name": "stdout",
     "output_type": "stream",
     "text": [
      "Введіть масив чисел через пробіл: 3 4 0 9 7 0 6 0 4 0 3 \n",
      "Результат (NumPy): [-1 -1  0 -1 -1  0 -1  0 -1  0 -1]\n",
      "Час виконання (NumPy): 0.0020003318786621094 секунд\n",
      "Результат (Ітеративно): [-1, -1, 0, -1, -1, 0, -1, 0, -1, 0, -1]\n",
      "Час виконання (Ітеративно): 0.0 секунд\n"
     ]
    }
   ],
   "source": [
    "def task6_numpy(arr):\n",
    "    return np.where(arr != 0, -1, arr)\n",
    "\n",
    "\n",
    "def task6_iterative(arr):\n",
    "    result_array = [x if x == 0 else -1 for x in arr]\n",
    "    return result_array\n",
    "\n",
    "\n",
    "arr = np.array(list(map(int, input(\"Введіть масив чисел через пробіл: \").split())))\n",
    "\n",
    "\n",
    "start_time_numpy = time.time()\n",
    "result_numpy = task6_numpy(arr)\n",
    "end_time_numpy = time.time()\n",
    "\n",
    "\n",
    "print(\"Результат (NumPy):\", result_numpy)\n",
    "print(\"Час виконання (NumPy):\", end_time_numpy - start_time_numpy, \"секунд\")\n",
    "\n",
    "\n",
    "start_time_iterative = time.time()\n",
    "result_iterative = task6_iterative(arr)\n",
    "end_time_iterative = time.time()\n",
    "\n",
    "\n",
    "print(\"Результат (Ітеративно):\", result_iterative)\n",
    "print(\"Час виконання (Ітеративно):\", end_time_iterative - start_time_iterative, \"секунд\")\n"
   ]
  },
  {
   "cell_type": "markdown",
   "id": "70a369fd",
   "metadata": {},
   "source": [
    "<h2>Вправа 7</h2>\n",
    "<p>7. З клавіатури вводиться масив. Замінити всі нульові\n",
    "елементи на –1.</p>"
   ]
  },
  {
   "cell_type": "code",
   "execution_count": 53,
   "id": "76caf834",
   "metadata": {},
   "outputs": [
    {
     "name": "stdout",
     "output_type": "stream",
     "text": [
      "Введіть масив чисел через пробіл: 3 4 0 6 5 0 3 0 4\n",
      "Результат (NumPy): [ 3  4 -1  6  5 -1  3 -1  4]\n",
      "Час виконання (NumPy): 0.0 секунд\n",
      "Результат (Ітеративно): [3, 4, -1, 6, 5, -1, 3, -1, 4]\n",
      "Час виконання (Ітеративно): 0.0 секунд\n"
     ]
    }
   ],
   "source": [
    "def task7_numpy(arr):\n",
    "    return np.where(arr == 0, -1, arr)\n",
    "\n",
    "\n",
    "def task7_iterative(arr):\n",
    "    result_array = [-1 if x == 0 else x for x in arr]\n",
    "    return result_array\n",
    "\n",
    "\n",
    "arr = np.array(list(map(int, input(\"Введіть масив чисел через пробіл: \").split())))\n",
    "\n",
    "\n",
    "start_time_numpy = time.time()\n",
    "result_numpy = task7_numpy(arr)\n",
    "end_time_numpy = time.time()\n",
    "\n",
    "\n",
    "print(\"Результат (NumPy):\", result_numpy)\n",
    "print(\"Час виконання (NumPy):\", end_time_numpy - start_time_numpy, \"секунд\")\n",
    "\n",
    "\n",
    "start_time_iterative = time.time()\n",
    "result_iterative = task7_iterative(arr)\n",
    "end_time_iterative = time.time()\n",
    "\n",
    "\n",
    "print(\"Результат (Ітеративно):\", result_iterative)\n",
    "print(\"Час виконання (Ітеративно):\", end_time_iterative - start_time_iterative, \"секунд\")\n"
   ]
  },
  {
   "cell_type": "markdown",
   "id": "c1d3c79d",
   "metadata": {},
   "source": [
    "<h2>Вправа 8</h2>\n",
    "<p>8. З клавіатури вводиться масив. Підрахувати в ньому\n",
    "кількість нульових та ненульових елементів.</p>"
   ]
  },
  {
   "cell_type": "code",
   "execution_count": 54,
   "id": "0abc2723",
   "metadata": {},
   "outputs": [
    {
     "name": "stdout",
     "output_type": "stream",
     "text": [
      "Введіть масив чисел через пробіл: 3 4 0 9 8 2 4 0 8 4 0\n",
      "Нулів: 3\n",
      "Не нулів: 8\n",
      "Час виконання (NumPy): 0.0019974708557128906 секунд\n",
      "Нулів: 3\n",
      "Не нулів: 8\n",
      "Час виконання (Ітеративно): 0.0 секунд\n"
     ]
    }
   ],
   "source": [
    "def task8_numpy(arr):\n",
    "    num_zeros = np.count_nonzero(arr == 0)\n",
    "    num_nonzeros = np.count_nonzero(arr != 0)\n",
    "    return num_zeros, num_nonzeros\n",
    "\n",
    "def task8_iterative(arr):\n",
    "    num_zeros = sum(1 for x in arr if x == 0)\n",
    "    num_nonzeros = len(arr) - num_zeros\n",
    "    return num_zeros, num_nonzeros\n",
    "\n",
    "\n",
    "arr = np.array(list(map(int, input(\"Введіть масив чисел через пробіл: \").split())))\n",
    "\n",
    "\n",
    "start_time_numpy = time.time()\n",
    "num_zeros_numpy, num_nonzeros_numpy = task8_numpy(arr)\n",
    "end_time_numpy = time.time()\n",
    "\n",
    "\n",
    "print(\"Нулів:\", num_zeros_numpy)\n",
    "print(\"Не нулів:\", num_nonzeros_numpy)\n",
    "print(\"Час виконання (NumPy):\", end_time_numpy - start_time_numpy, \"секунд\")\n",
    "\n",
    "\n",
    "start_time_iterative = time.time()\n",
    "num_zeros_iterative, num_nonzeros_iterative = task8_iterative(arr)\n",
    "end_time_iterative = time.time()\n",
    "\n",
    "\n",
    "print(\"Нулів:\", num_zeros_iterative)\n",
    "print(\"Не нулів:\", num_nonzeros_iterative)\n",
    "print(\"Час виконання (Ітеративно):\", end_time_iterative - start_time_iterative, \"секунд\")\n"
   ]
  },
  {
   "cell_type": "markdown",
   "id": "4b3413ba",
   "metadata": {},
   "source": [
    "<h2>Вправа 9</h2>\n",
    "<p>9. Вводиться число n. Створити масив значень від n до 0.</p>"
   ]
  },
  {
   "cell_type": "code",
   "execution_count": 55,
   "id": "0beec212",
   "metadata": {},
   "outputs": [
    {
     "name": "stdout",
     "output_type": "stream",
     "text": [
      "Введіть число n: 10\n",
      "Результат (NumPy): [10  9  8  7  6  5  4  3  2  1  0]\n",
      "Час виконання (NumPy): 0.0 секунд\n",
      "Результат (Ітеративно): [10, 9, 8, 7, 6, 5, 4, 3, 2, 1, 0]\n",
      "Час виконання (Ітеративно): 0.0010006427764892578 секунд\n"
     ]
    }
   ],
   "source": [
    "def task9_numpy(n):\n",
    "    return np.arange(n, -1, -1)\n",
    "\n",
    "def task9_iterative(n):\n",
    "    return [i for i in range(n, -1, -1)]\n",
    "\n",
    "\n",
    "n = int(input(\"Введіть число n: \"))\n",
    "\n",
    "\n",
    "start_time_numpy = time.time()\n",
    "result_numpy = task9_numpy(n)\n",
    "end_time_numpy = time.time()\n",
    "\n",
    "\n",
    "print(\"Результат (NumPy):\", result_numpy)\n",
    "print(\"Час виконання (NumPy):\", end_time_numpy - start_time_numpy, \"секунд\")\n",
    "\n",
    "\n",
    "start_time_iterative = time.time()\n",
    "result_iterative = task9_iterative(n)\n",
    "end_time_iterative = time.time()\n",
    "\n",
    "\n",
    "print(\"Результат (Ітеративно):\", result_iterative)\n",
    "print(\"Час виконання (Ітеративно):\", end_time_iterative - start_time_iterative, \"секунд\")\n"
   ]
  },
  {
   "cell_type": "markdown",
   "id": "5f6a25cb",
   "metadata": {},
   "source": [
    "<h2>Вправа 13</h2>\n",
    "<p>13. Розмістити на полі 8×8 нулі та одиниці в шахматному\n",
    "порядку, використовуючи функцію повторення (*).</p>"
   ]
  },
  {
   "cell_type": "code",
   "execution_count": 56,
   "id": "926f2223",
   "metadata": {},
   "outputs": [
    {
     "name": "stdout",
     "output_type": "stream",
     "text": [
      "Результат (NumPy):\n",
      "[[0 1 0 1 0 1 0 1]\n",
      " [1 0 1 0 1 0 1 0]\n",
      " [0 1 0 1 0 1 0 1]\n",
      " [1 0 1 0 1 0 1 0]\n",
      " [0 1 0 1 0 1 0 1]\n",
      " [1 0 1 0 1 0 1 0]\n",
      " [0 1 0 1 0 1 0 1]\n",
      " [1 0 1 0 1 0 1 0]]\n",
      "Час виконання (NumPy): 0.0009999275207519531 секунд\n",
      "\n",
      "Результат (Ітеративно):\n",
      "[0, 1, 0, 1, 0, 1, 0, 1]\n",
      "[1, 0, 1, 0, 1, 0, 1, 0]\n",
      "[0, 1, 0, 1, 0, 1, 0, 1]\n",
      "[1, 0, 1, 0, 1, 0, 1, 0]\n",
      "[0, 1, 0, 1, 0, 1, 0, 1]\n",
      "[1, 0, 1, 0, 1, 0, 1, 0]\n",
      "[0, 1, 0, 1, 0, 1, 0, 1]\n",
      "[1, 0, 1, 0, 1, 0, 1, 0]\n",
      "Час виконання (Ітеративно): 0.0 секунд\n"
     ]
    }
   ],
   "source": [
    "def task13_numpy():\n",
    "    chessboard = np.zeros((8, 8), dtype=int)\n",
    "    chessboard[1::2, ::2] = 1\n",
    "    chessboard[::2, 1::2] = 1\n",
    "    return chessboard\n",
    "\n",
    "def task13_iterative():\n",
    "    chessboard = []\n",
    "    for i in range(8):\n",
    "        row = [1 if (i+j) % 2 == 1 else 0 for j in range(8)]\n",
    "        chessboard.append(row)\n",
    "    return chessboard\n",
    "\n",
    "\n",
    "start_time_numpy = time.time()\n",
    "result_numpy = task13_numpy()\n",
    "end_time_numpy = time.time()\n",
    "\n",
    "\n",
    "print(\"Результат (NumPy):\")\n",
    "print(result_numpy)\n",
    "print(\"Час виконання (NumPy):\", end_time_numpy - start_time_numpy, \"секунд\")\n",
    "\n",
    "\n",
    "start_time_iterative = time.time()\n",
    "result_iterative = task13_iterative()\n",
    "end_time_iterative = time.time()\n",
    "\n",
    "\n",
    "print(\"\\nРезультат (Ітеративно):\")\n",
    "for row in result_iterative:\n",
    "    print(row)\n",
    "print(\"Час виконання (Ітеративно):\", end_time_iterative - start_time_iterative, \"секунд\")\n"
   ]
  },
  {
   "cell_type": "markdown",
   "id": "138d700b",
   "metadata": {},
   "source": [
    "<h2>Вправа 19</h2>\n",
    "<p>19. Згенерувати вектор із n елементів, що рівномірно\n",
    "розміщені на інтервалі (0,1) – тобто обидва кінці інтервалу не\n",
    "включені. Значення вивести до 3 знаків після коми.</p>"
   ]
  },
  {
   "cell_type": "code",
   "execution_count": 60,
   "id": "db384599",
   "metadata": {},
   "outputs": [
    {
     "name": "stdout",
     "output_type": "stream",
     "text": [
      "Введіть кількість елементів вектора: 10\n",
      "Результат (NumPy): [0.  0.1 0.2 0.3 0.4 0.5 0.6 0.7 0.8 0.9]\n",
      "Результат (Ітеративно): [0.0, 0.1, 0.2, 0.3, 0.4, 0.5, 0.6, 0.7, 0.8, 0.9]\n",
      "Час виконання (NumPy): 0.001001119613647461 секунд\n",
      "Час виконання (Ітеративно): 0.0 секунд\n"
     ]
    }
   ],
   "source": [
    "def task19_numpy(n):\n",
    "    return np.round(np.linspace(0, 1, n, endpoint=False), 3)\n",
    "\n",
    "def task19_iterative(n):\n",
    "    interval_length = 1 / n\n",
    "    return [round(interval_length * i, 3) for i in range(n)]\n",
    "\n",
    "\n",
    "n = int(input(\"Введіть кількість елементів вектора: \"))\n",
    "\n",
    "\n",
    "start_time_numpy = time.time()\n",
    "result_numpy = task19_numpy(n)\n",
    "end_time_numpy = time.time()\n",
    "\n",
    "\n",
    "start_time_iterative = time.time()\n",
    "result_iterative = task19_iterative(n)\n",
    "end_time_iterative = time.time()\n",
    "\n",
    "\n",
    "print(\"Результат (NumPy):\", result_numpy)\n",
    "print(\"Результат (Ітеративно):\", result_iterative)\n",
    "print(\"Час виконання (NumPy):\", end_time_numpy - start_time_numpy, \"секунд\")\n",
    "print(\"Час виконання (Ітеративно):\", end_time_iterative - start_time_iterative, \"секунд\")\n"
   ]
  },
  {
   "cell_type": "markdown",
   "id": "cac14072",
   "metadata": {},
   "source": [
    "<h1>Завдання 2</h1>"
   ]
  },
  {
   "cell_type": "code",
   "execution_count": 61,
   "id": "8e0f20a8",
   "metadata": {},
   "outputs": [
    {
     "name": "stdout",
     "output_type": "stream",
     "text": [
      "Розв'язок за допомогою формул Крамера: [ 3. -4. -1.  1.]\n",
      "Розв'язок за допомогою матричного множення: [ 3. -4. -1.  1.]\n",
      "Розв'язок за допомогою оберненої матриці: [ 3. -4. -1.  1.]\n",
      "Розв'язок за допомогою numpy.linalg.solve(): [ 3. -4. -1.  1.]\n",
      "\n",
      "Порівняння розв'язків:\n",
      "Формули Крамера == Матричне множення: True\n",
      "Формули Крамера == Обернена матриця: True\n",
      "Формули Крамера == numpy.linalg.solve(): True\n"
     ]
    }
   ],
   "source": [
    "# Задана матриця коефіцієнтів A\n",
    "A = np.array([[2, 1, -5, 1],\n",
    "              [1, -3, 0, -6],\n",
    "              [0, 2, -1, 2],\n",
    "              [1, 4, -7, 6]])\n",
    "\n",
    "# Заданий вектор вільних членів B\n",
    "B = np.array([8, 9, -5, 0])\n",
    "\n",
    "# Вирішення системи рівнянь за допомогою формул Крамера\n",
    "def solve_with_cramer(A, B):\n",
    "    det_A = np.linalg.det(A)\n",
    "    X = []\n",
    "    for i in range(len(B)):\n",
    "        Ai = A.copy()\n",
    "        Ai[:, i] = B\n",
    "        X.append(np.linalg.det(Ai) / det_A)\n",
    "    return np.array(X)\n",
    "\n",
    "# Вирішення системи рівнянь за допомогою матричного множення\n",
    "def solve_with_matrix_multiplication(A, B):\n",
    "    return np.linalg.inv(A) @ B\n",
    "\n",
    "# Вирішення системи рівнянь за допомогою оберненої матриці\n",
    "def solve_with_inverse_matrix(A, B):\n",
    "    return np.linalg.inv(A) @ B\n",
    "\n",
    "# Вирішення системи рівнянь за допомогою функції numpy.linalg.solve()\n",
    "def solve_with_numpy_linalg_solve(A, B):\n",
    "    return np.linalg.solve(A, B)\n",
    "\n",
    "# Отримання розв'язків\n",
    "solution_cramer = solve_with_cramer(A, B)\n",
    "solution_matrix_multiplication = solve_with_matrix_multiplication(A, B)\n",
    "solution_inverse_matrix = solve_with_inverse_matrix(A, B)\n",
    "solution_numpy_linalg_solve = solve_with_numpy_linalg_solve(A, B)\n",
    "\n",
    "# Виведення результатів\n",
    "print(\"Розв'язок за допомогою формул Крамера:\", solution_cramer)\n",
    "print(\"Розв'язок за допомогою матричного множення:\", solution_matrix_multiplication)\n",
    "print(\"Розв'язок за допомогою оберненої матриці:\", solution_inverse_matrix)\n",
    "print(\"Розв'язок за допомогою numpy.linalg.solve():\", solution_numpy_linalg_solve)\n",
    "\n",
    "# Порівняння розв'язків\n",
    "print(\"\\nПорівняння розв'язків:\")\n",
    "print(\"Формули Крамера == Матричне множення:\", np.allclose(solution_cramer, solution_matrix_multiplication))\n",
    "print(\"Формули Крамера == Обернена матриця:\", np.allclose(solution_cramer, solution_inverse_matrix))\n",
    "print(\"Формули Крамера == numpy.linalg.solve():\", np.allclose(solution_cramer, solution_numpy_linalg_solve))\n"
   ]
  },
  {
   "cell_type": "markdown",
   "id": "028d54e5",
   "metadata": {},
   "source": [
    "<h1>Завдання 3</h1>"
   ]
  },
  {
   "cell_type": "code",
   "execution_count": 62,
   "id": "e6428ceb",
   "metadata": {},
   "outputs": [
    {
     "name": "stdout",
     "output_type": "stream",
     "text": [
      "Результат за допомогою універсальних функцій бібліотеки NumPy:\n",
      "[[ 14.  14. -34.]\n",
      " [  1.   2.   0.]\n",
      " [ 16. -16.   6.]]\n",
      "Час виконання (NumPy): 0.0 секунд\n",
      "\n",
      "Результат за допомогою ітеративних конструкцій:\n",
      "[[ 14.  14. -34.]\n",
      " [  1.   2.   0.]\n",
      " [ 16. -16.   6.]]\n",
      "Час виконання (Ітеративно): 0.002999544143676758 секунд\n",
      "\n",
      "Порівняння результатів за допомогою numpy.allclose(): True\n"
     ]
    }
   ],
   "source": [
    "# Визначення матриць A і B\n",
    "A = np.array([[5, 3, -1],\n",
    "              [2, -2, 0],\n",
    "              [3, -1, 2]])\n",
    "\n",
    "B = np.array([[1, 4, 16],\n",
    "              [-3, -2, 0],\n",
    "              [5, 7, 2]])\n",
    "\n",
    "# Обчислення значення матричного виразу за допомогою універсальних функцій бібліотеки NumPy\n",
    "start_time_numpy = time.time()\n",
    "result_numpy = 2 * (A - 0.5 * B) + A * B\n",
    "end_time_numpy = time.time()\n",
    "\n",
    "# Обчислення значення матричного виразу за допомогою ітеративних конструкцій\n",
    "start_time_iterative = time.time()\n",
    "rows, cols = A.shape\n",
    "result_iterative = np.zeros((rows, cols))\n",
    "for i in range(rows):\n",
    "    for j in range(cols):\n",
    "        result_iterative[i, j] = 2 * (A[i, j] - 0.5 * B[i, j]) + A[i, j] * B[i, j]\n",
    "end_time_iterative = time.time()\n",
    "\n",
    "# Виведення результатів та часу виконання\n",
    "print(\"Результат за допомогою універсальних функцій бібліотеки NumPy:\")\n",
    "print(result_numpy)\n",
    "print(\"Час виконання (NumPy):\", end_time_numpy - start_time_numpy, \"секунд\")\n",
    "\n",
    "print(\"\\nРезультат за допомогою ітеративних конструкцій:\")\n",
    "print(result_iterative)\n",
    "print(\"Час виконання (Ітеративно):\", end_time_iterative - start_time_iterative, \"секунд\")\n",
    "\n",
    "# Порівняння результатів за допомогою функції numpy.allclose()\n",
    "print(\"\\nПорівняння результатів за допомогою numpy.allclose():\", np.allclose(result_numpy, result_iterative))\n"
   ]
  },
  {
   "cell_type": "code",
   "execution_count": null,
   "id": "42920ca2",
   "metadata": {},
   "outputs": [],
   "source": []
  }
 ],
 "metadata": {
  "kernelspec": {
   "display_name": "Python 3 (ipykernel)",
   "language": "python",
   "name": "python3"
  },
  "language_info": {
   "codemirror_mode": {
    "name": "ipython",
    "version": 3
   },
   "file_extension": ".py",
   "mimetype": "text/x-python",
   "name": "python",
   "nbconvert_exporter": "python",
   "pygments_lexer": "ipython3",
   "version": "3.11.7"
  }
 },
 "nbformat": 4,
 "nbformat_minor": 5
}
