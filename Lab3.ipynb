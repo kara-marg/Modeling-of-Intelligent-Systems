{
 "cells": [
  {
   "cell_type": "markdown",
   "id": "5c38114f-2546-4b2d-8516-46541dccfb3b",
   "metadata": {},
   "source": [
    "<h1>Варіант 2</h1>\n",
    "<p>3, 4, 5, 8, 9, 11, 12, 13, 14, 16, 17, 18,19 20, 22, 23, 24, 27</p>"
   ]
  },
  {
   "cell_type": "code",
   "execution_count": 9,
   "id": "78a03420",
   "metadata": {},
   "outputs": [],
   "source": [
    "import string\n",
    "import random\n",
    "import pandas as pd\n",
    "import numpy as np\n",
    "df = pd.read_csv('D:/condaEnvs/NationalNames.csv')"
   ]
  },
  {
   "cell_type": "markdown",
   "id": "c88e4639",
   "metadata": {},
   "source": [
    "<h2>Вправа 3</h2>\n",
    "<p>Отримайте імена стовпців набору даних.</p>"
   ]
  },
  {
   "cell_type": "code",
   "execution_count": 12,
   "id": "3115d3f1",
   "metadata": {},
   "outputs": [
    {
     "data": {
      "text/plain": [
       "Index(['Id', 'Name', 'Year', 'Gender', 'Count'], dtype='object')"
      ]
     },
     "execution_count": 12,
     "metadata": {},
     "output_type": "execute_result"
    }
   ],
   "source": [
    "df.columns"
   ]
  },
  {
   "cell_type": "markdown",
   "id": "3ac6f9b5",
   "metadata": {},
   "source": [
    "<h2>Вправа 4</h2>\n",
    "<p>Отримайте загальну інформацію про дані у наборі даних.</p>"
   ]
  },
  {
   "cell_type": "code",
   "execution_count": 14,
   "id": "03f49fd1",
   "metadata": {},
   "outputs": [
    {
     "data": {
      "text/html": [
       "<div>\n",
       "<style scoped>\n",
       "    .dataframe tbody tr th:only-of-type {\n",
       "        vertical-align: middle;\n",
       "    }\n",
       "\n",
       "    .dataframe tbody tr th {\n",
       "        vertical-align: top;\n",
       "    }\n",
       "\n",
       "    .dataframe thead th {\n",
       "        text-align: right;\n",
       "    }\n",
       "</style>\n",
       "<table border=\"1\" class=\"dataframe\">\n",
       "  <thead>\n",
       "    <tr style=\"text-align: right;\">\n",
       "      <th></th>\n",
       "      <th>Id</th>\n",
       "      <th>Year</th>\n",
       "      <th>Count</th>\n",
       "    </tr>\n",
       "  </thead>\n",
       "  <tbody>\n",
       "    <tr>\n",
       "      <th>count</th>\n",
       "      <td>1.825433e+06</td>\n",
       "      <td>1.825433e+06</td>\n",
       "      <td>1.825433e+06</td>\n",
       "    </tr>\n",
       "    <tr>\n",
       "      <th>mean</th>\n",
       "      <td>9.127170e+05</td>\n",
       "      <td>1.972620e+03</td>\n",
       "      <td>1.846879e+02</td>\n",
       "    </tr>\n",
       "    <tr>\n",
       "      <th>std</th>\n",
       "      <td>5.269573e+05</td>\n",
       "      <td>3.352891e+01</td>\n",
       "      <td>1.566711e+03</td>\n",
       "    </tr>\n",
       "    <tr>\n",
       "      <th>min</th>\n",
       "      <td>1.000000e+00</td>\n",
       "      <td>1.880000e+03</td>\n",
       "      <td>5.000000e+00</td>\n",
       "    </tr>\n",
       "    <tr>\n",
       "      <th>25%</th>\n",
       "      <td>4.563590e+05</td>\n",
       "      <td>1.949000e+03</td>\n",
       "      <td>7.000000e+00</td>\n",
       "    </tr>\n",
       "    <tr>\n",
       "      <th>50%</th>\n",
       "      <td>9.127170e+05</td>\n",
       "      <td>1.982000e+03</td>\n",
       "      <td>1.200000e+01</td>\n",
       "    </tr>\n",
       "    <tr>\n",
       "      <th>75%</th>\n",
       "      <td>1.369075e+06</td>\n",
       "      <td>2.001000e+03</td>\n",
       "      <td>3.200000e+01</td>\n",
       "    </tr>\n",
       "    <tr>\n",
       "      <th>max</th>\n",
       "      <td>1.825433e+06</td>\n",
       "      <td>2.014000e+03</td>\n",
       "      <td>9.968000e+04</td>\n",
       "    </tr>\n",
       "  </tbody>\n",
       "</table>\n",
       "</div>"
      ],
      "text/plain": [
       "                 Id          Year         Count\n",
       "count  1.825433e+06  1.825433e+06  1.825433e+06\n",
       "mean   9.127170e+05  1.972620e+03  1.846879e+02\n",
       "std    5.269573e+05  3.352891e+01  1.566711e+03\n",
       "min    1.000000e+00  1.880000e+03  5.000000e+00\n",
       "25%    4.563590e+05  1.949000e+03  7.000000e+00\n",
       "50%    9.127170e+05  1.982000e+03  1.200000e+01\n",
       "75%    1.369075e+06  2.001000e+03  3.200000e+01\n",
       "max    1.825433e+06  2.014000e+03  9.968000e+04"
      ]
     },
     "execution_count": 14,
     "metadata": {},
     "output_type": "execute_result"
    }
   ],
   "source": [
    "columns_included = ['Id', 'Year', 'Count']\n",
    "summary = df[columns_included].describe(percentiles=[.25, .5, .75])\n",
    "summary"
   ]
  },
  {
   "cell_type": "markdown",
   "id": "ef36d2f6",
   "metadata": {},
   "source": [
    "<h2>Вправа 5</h2>\n",
    "<p>Знайдіть кількість унікальних імен у наборі даних.</p>"
   ]
  },
  {
   "cell_type": "code",
   "execution_count": 13,
   "id": "580e79fc",
   "metadata": {},
   "outputs": [
    {
     "data": {
      "text/plain": [
       "93889"
      ]
     },
     "execution_count": 13,
     "metadata": {},
     "output_type": "execute_result"
    }
   ],
   "source": [
    "df['Name'].nunique()"
   ]
  },
  {
   "cell_type": "markdown",
   "id": "1bd7c2c2",
   "metadata": {},
   "source": [
    "<h2>Вправа 8</h2>\n",
    "<p>Знайдіть найпопулярніше ім'я за результатами одного року (ім'я, для якого Count максимальне)</p>"
   ]
  },
  {
   "cell_type": "code",
   "execution_count": 15,
   "id": "7bd179f7",
   "metadata": {},
   "outputs": [
    {
     "data": {
      "text/html": [
       "<div>\n",
       "<style scoped>\n",
       "    .dataframe tbody tr th:only-of-type {\n",
       "        vertical-align: middle;\n",
       "    }\n",
       "\n",
       "    .dataframe tbody tr th {\n",
       "        vertical-align: top;\n",
       "    }\n",
       "\n",
       "    .dataframe thead th {\n",
       "        text-align: right;\n",
       "    }\n",
       "</style>\n",
       "<table border=\"1\" class=\"dataframe\">\n",
       "  <thead>\n",
       "    <tr style=\"text-align: right;\">\n",
       "      <th></th>\n",
       "      <th>Id</th>\n",
       "      <th>Name</th>\n",
       "      <th>Year</th>\n",
       "      <th>Gender</th>\n",
       "      <th>Count</th>\n",
       "    </tr>\n",
       "  </thead>\n",
       "  <tbody>\n",
       "    <tr>\n",
       "      <th>431052</th>\n",
       "      <td>431053</td>\n",
       "      <td>Linda</td>\n",
       "      <td>1947</td>\n",
       "      <td>F</td>\n",
       "      <td>99680</td>\n",
       "    </tr>\n",
       "  </tbody>\n",
       "</table>\n",
       "</div>"
      ],
      "text/plain": [
       "            Id   Name  Year Gender  Count\n",
       "431052  431053  Linda  1947      F  99680"
      ]
     },
     "execution_count": 15,
     "metadata": {},
     "output_type": "execute_result"
    }
   ],
   "source": [
    "year = 1947\n",
    "fq_name = df[df['Year'] == year];\n",
    "most = pd.DataFrame([fq_name.loc[fq_name['Count'].idxmax()]])\n",
    "most"
   ]
  },
  {
   "cell_type": "markdown",
   "id": "acd4745e",
   "metadata": {},
   "source": [
    "<h2>Вправа 9</h2>\n",
    "<p>Підрахуйте кількість записів, для яких Count-мінімальне у наборі.</p>"
   ]
  },
  {
   "cell_type": "code",
   "execution_count": 5,
   "id": "1b272524",
   "metadata": {},
   "outputs": [],
   "source": [
    "minimal = df.loc[df['Count'].idxmin()]\n",
    "rows = df[df['Count'] == minimal['Count']]\n",
    "rows.shape[0]"
   ]
  },
  {
   "cell_type": "markdown",
   "id": "120df1da",
   "metadata": {},
   "source": [
    "<h2>Вправа 11</h2>\n",
    "<p>Знайдіть рік із найбільшою кількістю унікальних імен.</p>"
   ]
  },
  {
   "cell_type": "code",
   "execution_count": 14,
   "id": "62719454",
   "metadata": {},
   "outputs": [
    {
     "data": {
      "text/plain": [
       "Year\n",
       "2008    32488\n",
       "Name: Name, dtype: int64"
      ]
     },
     "execution_count": 14,
     "metadata": {},
     "output_type": "execute_result"
    }
   ],
   "source": [
    "df.groupby('Year')['Name'].nunique().sort_values(ascending=False).head(1)"
   ]
  },
  {
   "cell_type": "markdown",
   "id": "a2e50f96",
   "metadata": {},
   "source": [
    "<h2>Вправа 12</h2>\n",
    "<p>Знайдіть найпопулярніше ім'я в році з найбільшою кількістю унікальних імен(тобто у 2008 році)</p>"
   ]
  },
  {
   "cell_type": "code",
   "execution_count": 15,
   "id": "2955c515",
   "metadata": {},
   "outputs": [
    {
     "data": {
      "text/plain": [
       "'Jacob'"
      ]
     },
     "execution_count": 15,
     "metadata": {},
     "output_type": "execute_result"
    }
   ],
   "source": [
    "year_max_unique = df.groupby('Year')['Name'].nunique().idxmax()\n",
    "df[df['Year'] == year_max_unique].sort_values('Count', ascending=False).iloc[0]['Name']"
   ]
  },
  {
   "cell_type": "markdown",
   "id": "dd5e58d2",
   "metadata": {},
   "source": [
    "<h2>Вправа 13</h2>\n",
    "<p>Знайдіть рік, коли ім'я \"Jacob\" було найпопулярнішим серед жіночих імен</p>"
   ]
  },
  {
   "cell_type": "code",
   "execution_count": 16,
   "id": "2371bbe9",
   "metadata": {},
   "outputs": [
    {
     "data": {
      "text/html": [
       "<div>\n",
       "<style scoped>\n",
       "    .dataframe tbody tr th:only-of-type {\n",
       "        vertical-align: middle;\n",
       "    }\n",
       "\n",
       "    .dataframe tbody tr th {\n",
       "        vertical-align: top;\n",
       "    }\n",
       "\n",
       "    .dataframe thead th {\n",
       "        text-align: right;\n",
       "    }\n",
       "</style>\n",
       "<table border=\"1\" class=\"dataframe\">\n",
       "  <thead>\n",
       "    <tr style=\"text-align: right;\">\n",
       "      <th></th>\n",
       "      <th>Id</th>\n",
       "      <th>Name</th>\n",
       "      <th>Year</th>\n",
       "      <th>Gender</th>\n",
       "      <th>Count</th>\n",
       "    </tr>\n",
       "  </thead>\n",
       "  <tbody>\n",
       "    <tr>\n",
       "      <th>1455556</th>\n",
       "      <td>1455557</td>\n",
       "      <td>Jacob</td>\n",
       "      <td>2004</td>\n",
       "      <td>F</td>\n",
       "      <td>171</td>\n",
       "    </tr>\n",
       "  </tbody>\n",
       "</table>\n",
       "</div>"
      ],
      "text/plain": [
       "              Id   Name  Year Gender  Count\n",
       "1455556  1455557  Jacob  2004      F    171"
      ]
     },
     "execution_count": 16,
     "metadata": {},
     "output_type": "execute_result"
    }
   ],
   "source": [
    "female_df = df[df['Gender'] == 'F']\n",
    "jacob_df = female_df[female_df['Name'] == 'Jacob']\n",
    "jacob_df.sort_values('Count', ascending=False).head(1)"
   ]
  },
  {
   "cell_type": "markdown",
   "id": "a05dc7d9",
   "metadata": {},
   "source": [
    "<h2>Вправа 14</h2>\n",
    "<p>Знайти рік із найбільшою кількістю гендерно нейтральних імен (однакові чоловічі та жіночі імена)</p>"
   ]
  },
  {
   "cell_type": "code",
   "execution_count": 17,
   "id": "fe668e30",
   "metadata": {},
   "outputs": [
    {
     "data": {
      "text/plain": [
       "Year\n",
       "2008    2557\n",
       "Name: Count, dtype: int64"
      ]
     },
     "execution_count": 17,
     "metadata": {},
     "output_type": "execute_result"
    }
   ],
   "source": [
    "male_names = df[df['Gender'] == 'M'].groupby(['Year', 'Name'])['Count'].sum()\n",
    "female_names = df[df['Gender'] == 'F'].groupby(['Year', 'Name'])['Count'].sum()\n",
    "gender_neutral_names = male_names.index.intersection(female_names.index)\n",
    "male_names = male_names.loc[gender_neutral_names]\n",
    "gender_neutral_counts = male_names.groupby(level=0).count()\n",
    "gender_neutral_counts.sort_values(ascending=False).head(1)"
   ]
  },
  {
   "cell_type": "markdown",
   "id": "cc68c4d1",
   "metadata": {},
   "source": [
    "<h2>Вправа 16</h2>\n",
    "<p>Знайдіть рік, коли народилося найбільше дітей</p>"
   ]
  },
  {
   "cell_type": "code",
   "execution_count": 18,
   "id": "9e5c4ffa",
   "metadata": {},
   "outputs": [
    {
     "data": {
      "text/plain": [
       "1957"
      ]
     },
     "execution_count": 18,
     "metadata": {},
     "output_type": "execute_result"
    }
   ],
   "source": [
    "df.groupby('Year')['Count'].sum().idxmax()"
   ]
  },
  {
   "cell_type": "markdown",
   "id": "e02df53a",
   "metadata": {},
   "source": [
    "<h2>Вправа 17</h2>\n",
    "<p>Знайдіть кількість дівчаток та хлопчиків, які народились кожного\n",
    "року</p>"
   ]
  },
  {
   "cell_type": "code",
   "execution_count": 19,
   "id": "8dbcab3b",
   "metadata": {},
   "outputs": [
    {
     "data": {
      "text/html": [
       "<div>\n",
       "<style scoped>\n",
       "    .dataframe tbody tr th:only-of-type {\n",
       "        vertical-align: middle;\n",
       "    }\n",
       "\n",
       "    .dataframe tbody tr th {\n",
       "        vertical-align: top;\n",
       "    }\n",
       "\n",
       "    .dataframe thead th {\n",
       "        text-align: right;\n",
       "    }\n",
       "</style>\n",
       "<table border=\"1\" class=\"dataframe\">\n",
       "  <thead>\n",
       "    <tr style=\"text-align: right;\">\n",
       "      <th>Gender</th>\n",
       "      <th>F</th>\n",
       "      <th>M</th>\n",
       "    </tr>\n",
       "    <tr>\n",
       "      <th>Year</th>\n",
       "      <th></th>\n",
       "      <th></th>\n",
       "    </tr>\n",
       "  </thead>\n",
       "  <tbody>\n",
       "    <tr>\n",
       "      <th>1880</th>\n",
       "      <td>90993</td>\n",
       "      <td>110491</td>\n",
       "    </tr>\n",
       "    <tr>\n",
       "      <th>1881</th>\n",
       "      <td>91954</td>\n",
       "      <td>100745</td>\n",
       "    </tr>\n",
       "    <tr>\n",
       "      <th>1882</th>\n",
       "      <td>107850</td>\n",
       "      <td>113688</td>\n",
       "    </tr>\n",
       "    <tr>\n",
       "      <th>1883</th>\n",
       "      <td>112321</td>\n",
       "      <td>104629</td>\n",
       "    </tr>\n",
       "    <tr>\n",
       "      <th>1884</th>\n",
       "      <td>129022</td>\n",
       "      <td>114445</td>\n",
       "    </tr>\n",
       "  </tbody>\n",
       "</table>\n",
       "</div>"
      ],
      "text/plain": [
       "Gender       F       M\n",
       "Year                  \n",
       "1880     90993  110491\n",
       "1881     91954  100745\n",
       "1882    107850  113688\n",
       "1883    112321  104629\n",
       "1884    129022  114445"
      ]
     },
     "execution_count": 19,
     "metadata": {},
     "output_type": "execute_result"
    }
   ],
   "source": [
    "df.groupby(['Year', 'Gender'])['Count'].sum().unstack().head()"
   ]
  },
  {
   "cell_type": "markdown",
   "id": "e1950a43",
   "metadata": {},
   "source": [
    "<h2>Вправа 18</h2>\n",
    "<p>Підрахуйте кількість років, коли дівчаток народжувалось більше, ніж хлопчиків.</p>"
   ]
  },
  {
   "cell_type": "code",
   "execution_count": 20,
   "id": "a2799137",
   "metadata": {},
   "outputs": [
    {
     "data": {
      "text/plain": [
       "54"
      ]
     },
     "execution_count": 20,
     "metadata": {},
     "output_type": "execute_result"
    }
   ],
   "source": [
    "boys_girls_count = df.groupby(['Year', 'Gender'])['Count'].sum().unstack()\n",
    "boys_girls_count[boys_girls_count['F'] > boys_girls_count['M']].shape[0]"
   ]
  },
  {
   "cell_type": "markdown",
   "id": "f411ab5c",
   "metadata": {},
   "source": [
    "<h2>Вправа 19</h2>\n",
    "<p>Накресліть графік загальної кількості народжень хлопчиків та дівчаток на рік.</p>"
   ]
  },
  {
   "cell_type": "code",
   "execution_count": 10,
   "id": "1cf22219",
   "metadata": {},
   "outputs": [
    {
     "data": {
      "image/png": "[encoded data removed]",
      "text/plain": [
       "<Figure size 640x480 with 1 Axes>"
      ]
     },
     "metadata": {},
     "output_type": "display_data"
    }
   ],
   "source": [
    "from matplotlib import pyplot as plt \n",
    "%matplotlib inline\n",
    "gc = df.groupby(['Year', 'Gender'])['Count'].sum().unstack()\n",
    "plt.plot(gc.index, gc['F'], label='F')\n",
    "plt.plot(gc.index, gc['M'], label='M')\n",
    "plt.xlabel('Рік')\n",
    "plt.ylabel('Всього народжених за рік')\n",
    "legend = plt.legend(loc='upper left', frameon=True)"
   ]
  },
  {
   "cell_type": "markdown",
   "id": "dc779632",
   "metadata": {},
   "source": [
    "<h2>Вправа 20</h2>\n",
    "<p>Підрахуйте кількість гендерно-нейтральних імен (однакових для дівчат та хлопців)</p>"
   ]
  },
  {
   "cell_type": "code",
   "execution_count": 17,
   "id": "a0d6bfed",
   "metadata": {},
   "outputs": [
    {
     "data": {
      "text/plain": [
       "10221"
      ]
     },
     "execution_count": 17,
     "metadata": {},
     "output_type": "execute_result"
    }
   ],
   "source": [
    "male_names = df[df.Gender == 'M']['Name']\n",
    "female_names = df[df.Gender == 'F']['Name']\n",
    "len(np.intersect1d(male_names.values,female_names.values))"
   ]
  },
  {
   "cell_type": "markdown",
   "id": "015a3637",
   "metadata": {},
   "source": [
    "<h2>Вправа 22</h2>\n",
    "<p>Підрахуйте скільки років проводилось спостереження</p>"
   ]
  },
  {
   "cell_type": "code",
   "execution_count": 21,
   "id": "e4f8c059",
   "metadata": {},
   "outputs": [
    {
     "name": "stdout",
     "output_type": "stream",
     "text": [
      "Спостереження проводились 135 років.\n"
     ]
    }
   ],
   "source": [
    "num_of_years = len(df['Year'].unique())\n",
    "print(f\"Спостереження проводились {num_of_years} років.\")"
   ]
  },
  {
   "cell_type": "markdown",
   "id": "f26a3b11",
   "metadata": {},
   "source": [
    "<h2>Вправа 23</h2>\n",
    "<p>Знати найпопулярніші гендерно-нейтральні імена (ті, що присутні кожного року)</p>"
   ]
  },
  {
   "cell_type": "code",
   "execution_count": 22,
   "id": "51113449",
   "metadata": {},
   "outputs": [
    {
     "data": {
      "text/html": [
       "<div>\n",
       "<style scoped>\n",
       "    .dataframe tbody tr th:only-of-type {\n",
       "        vertical-align: middle;\n",
       "    }\n",
       "\n",
       "    .dataframe tbody tr th {\n",
       "        vertical-align: top;\n",
       "    }\n",
       "\n",
       "    .dataframe thead th {\n",
       "        text-align: right;\n",
       "    }\n",
       "</style>\n",
       "<table border=\"1\" class=\"dataframe\">\n",
       "  <thead>\n",
       "    <tr style=\"text-align: right;\">\n",
       "      <th></th>\n",
       "      <th>0</th>\n",
       "    </tr>\n",
       "  </thead>\n",
       "  <tbody>\n",
       "    <tr>\n",
       "      <th>0</th>\n",
       "      <td>Mary</td>\n",
       "    </tr>\n",
       "    <tr>\n",
       "      <th>1</th>\n",
       "      <td>Anna</td>\n",
       "    </tr>\n",
       "    <tr>\n",
       "      <th>2</th>\n",
       "      <td>Emma</td>\n",
       "    </tr>\n",
       "    <tr>\n",
       "      <th>3</th>\n",
       "      <td>Elizabeth</td>\n",
       "    </tr>\n",
       "    <tr>\n",
       "      <th>4</th>\n",
       "      <td>Minnie</td>\n",
       "    </tr>\n",
       "    <tr>\n",
       "      <th>...</th>\n",
       "      <td>...</td>\n",
       "    </tr>\n",
       "    <tr>\n",
       "      <th>818</th>\n",
       "      <td>Noble</td>\n",
       "    </tr>\n",
       "    <tr>\n",
       "      <th>819</th>\n",
       "      <td>Rupert</td>\n",
       "    </tr>\n",
       "    <tr>\n",
       "      <th>820</th>\n",
       "      <td>Thad</td>\n",
       "    </tr>\n",
       "    <tr>\n",
       "      <th>821</th>\n",
       "      <td>Kelly</td>\n",
       "    </tr>\n",
       "    <tr>\n",
       "      <th>822</th>\n",
       "      <td>Tommy</td>\n",
       "    </tr>\n",
       "  </tbody>\n",
       "</table>\n",
       "<p>823 rows × 1 columns</p>\n",
       "</div>"
      ],
      "text/plain": [
       "             0\n",
       "0         Mary\n",
       "1         Anna\n",
       "2         Emma\n",
       "3    Elizabeth\n",
       "4       Minnie\n",
       "..         ...\n",
       "818      Noble\n",
       "819     Rupert\n",
       "820       Thad\n",
       "821      Kelly\n",
       "822      Tommy\n",
       "\n",
       "[823 rows x 1 columns]"
      ]
     },
     "execution_count": 22,
     "metadata": {},
     "output_type": "execute_result"
    }
   ],
   "source": [
    "num_of_years = len(df['Year'].unique())\n",
    "male_names = df[df['Gender'] == 'M'].groupby(['Name'])['Count'].sum()\n",
    "female_names = df[df['Gender'] == 'F'].groupby(['Name'])['Count'].sum()\n",
    "gender_neutral_names = male_names.index.intersection(female_names.index)\n",
    "popular_gender_neutral_names = df[df['Name'].isin(gender_neutral_names)].groupby('Name').filter(lambda x: x['Year'].nunique() == num_of_years)['Name'].unique()\n",
    "pd.DataFrame(data=popular_gender_neutral_names)"
   ]
  },
  {
   "cell_type": "markdown",
   "id": "b56002c0",
   "metadata": {},
   "source": [
    "<h2>Вправа 24</h2>\n",
    "<p>Знайти найпопулярніше серед непопулярних імен (непопулярне ім’я, яким називали дітей найбільшу кількість разів )</p>"
   ]
  },
  {
   "cell_type": "code",
   "execution_count": 27,
   "id": "059c4e9f",
   "metadata": {},
   "outputs": [
    {
     "data": {
      "text/plain": [
       "\"Найпопулярніше ім'я серед непопулярних (названих менш ніж за 50 років) - Jayden, 189220 разів.\""
      ]
     },
     "execution_count": 27,
     "metadata": {},
     "output_type": "execute_result"
    }
   ],
   "source": [
    "years_threshold = 50\n",
    "unpopular_names = df.groupby('Name').filter(lambda x: x['Year'].nunique() < years_threshold).groupby('Name')['Count'].sum()\n",
    "unpopular_name = unpopular_names.sort_values(ascending=False).head(1)\n",
    "f\"Найпопулярніше ім'я серед непопулярних (названих менш ніж за {years_threshold} років) - {unpopular_name.index[0]}, {unpopular_name.values[0]} разів.\""
   ]
  },
  {
   "cell_type": "markdown",
   "id": "dd7d3fc5",
   "metadata": {},
   "source": [
    "<h2>Вправа 27</h2>\n",
    "<p>Знайти найпопулярніші імена в кожному році.</p>"
   ]
  },
  {
   "cell_type": "code",
   "execution_count": 26,
   "id": "fc93276c",
   "metadata": {},
   "outputs": [
    {
     "data": {
      "text/html": [
       "<div>\n",
       "<style scoped>\n",
       "    .dataframe tbody tr th:only-of-type {\n",
       "        vertical-align: middle;\n",
       "    }\n",
       "\n",
       "    .dataframe tbody tr th {\n",
       "        vertical-align: top;\n",
       "    }\n",
       "\n",
       "    .dataframe thead th {\n",
       "        text-align: right;\n",
       "    }\n",
       "</style>\n",
       "<table border=\"1\" class=\"dataframe\">\n",
       "  <thead>\n",
       "    <tr style=\"text-align: right;\">\n",
       "      <th></th>\n",
       "      <th>Year</th>\n",
       "      <th>Name</th>\n",
       "      <th>Count</th>\n",
       "    </tr>\n",
       "  </thead>\n",
       "  <tbody>\n",
       "    <tr>\n",
       "      <th>955</th>\n",
       "      <td>1880</td>\n",
       "      <td>John</td>\n",
       "      <td>9701</td>\n",
       "    </tr>\n",
       "    <tr>\n",
       "      <th>2818</th>\n",
       "      <td>1881</td>\n",
       "      <td>John</td>\n",
       "      <td>8795</td>\n",
       "    </tr>\n",
       "    <tr>\n",
       "      <th>4735</th>\n",
       "      <td>1882</td>\n",
       "      <td>John</td>\n",
       "      <td>9597</td>\n",
       "    </tr>\n",
       "    <tr>\n",
       "      <th>6727</th>\n",
       "      <td>1883</td>\n",
       "      <td>John</td>\n",
       "      <td>8934</td>\n",
       "    </tr>\n",
       "    <tr>\n",
       "      <th>8775</th>\n",
       "      <td>1884</td>\n",
       "      <td>John</td>\n",
       "      <td>9428</td>\n",
       "    </tr>\n",
       "    <tr>\n",
       "      <th>...</th>\n",
       "      <td>...</td>\n",
       "      <td>...</td>\n",
       "      <td>...</td>\n",
       "    </tr>\n",
       "    <tr>\n",
       "      <th>1521288</th>\n",
       "      <td>2010</td>\n",
       "      <td>Isabella</td>\n",
       "      <td>22913</td>\n",
       "    </tr>\n",
       "    <tr>\n",
       "      <th>1568092</th>\n",
       "      <td>2011</td>\n",
       "      <td>Sophia</td>\n",
       "      <td>21839</td>\n",
       "    </tr>\n",
       "    <tr>\n",
       "      <th>1599369</th>\n",
       "      <td>2012</td>\n",
       "      <td>Sophia</td>\n",
       "      <td>22285</td>\n",
       "    </tr>\n",
       "    <tr>\n",
       "      <th>1630271</th>\n",
       "      <td>2013</td>\n",
       "      <td>Sophia</td>\n",
       "      <td>21172</td>\n",
       "    </tr>\n",
       "    <tr>\n",
       "      <th>1643629</th>\n",
       "      <td>2014</td>\n",
       "      <td>Emma</td>\n",
       "      <td>20811</td>\n",
       "    </tr>\n",
       "  </tbody>\n",
       "</table>\n",
       "<p>135 rows × 3 columns</p>\n",
       "</div>"
      ],
      "text/plain": [
       "         Year      Name  Count\n",
       "955      1880      John   9701\n",
       "2818     1881      John   8795\n",
       "4735     1882      John   9597\n",
       "6727     1883      John   8934\n",
       "8775     1884      John   9428\n",
       "...       ...       ...    ...\n",
       "1521288  2010  Isabella  22913\n",
       "1568092  2011    Sophia  21839\n",
       "1599369  2012    Sophia  22285\n",
       "1630271  2013    Sophia  21172\n",
       "1643629  2014      Emma  20811\n",
       "\n",
       "[135 rows x 3 columns]"
      ]
     },
     "execution_count": 26,
     "metadata": {},
     "output_type": "execute_result"
    }
   ],
   "source": [
    "byYear = df.groupby(['Year', 'Name'])['Count'].sum().reset_index()\n",
    "most_popular = byYear.loc[byYear.groupby('Year')['Count'].idxmax()]\n",
    "most_popular"
   ]
  }
 ],
 "metadata": {
  "kernelspec": {
   "display_name": "Python 3 (ipykernel)",
   "language": "python",
   "name": "python3"
  },
  "language_info": {
   "codemirror_mode": {
    "name": "ipython",
    "version": 3
   },
   "file_extension": ".py",
   "mimetype": "text/x-python",
   "name": "python",
   "nbconvert_exporter": "python",
   "pygments_lexer": "ipython3",
   "version": "3.11.7"
  }
 },
 "nbformat": 4,
 "nbformat_minor": 5
}
