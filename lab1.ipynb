{
 "cells": [
  {
   "cell_type": "markdown",
   "id": "715be135-7b57-456e-839f-20ae1aa38cef",
   "metadata": {},
   "source": [
    "<font color=\"Brown\"><h1>Ісландія</h1></font>\n"
   ]
  },
  {
   "cell_type": "markdown",
   "id": "c6297de3-fbe9-4483-b67c-8cead3875116",
   "metadata": {},
   "source": [
    "## **Площа**\n",
    "\n",
    "*   Загалом: 103,000 км2\n",
    "*   Внутрішні води: 2,70 %"
   ]
  },
  {
   "cell_type": "markdown",
   "id": "4c89dc7a-72b6-459a-b776-a2ced76ec5fe",
   "metadata": {},
   "source": [
    "## **Населення**\n",
    "\n",
    "*   *Оцінка 2014*: 325 671\n",
    "*   *Густота*: 3,1 особи/км2"
   ]
  },
  {
   "cell_type": "markdown",
   "id": "81e31e5f-cfa1-4640-be8e-7a4e7075320c",
   "metadata": {},
   "source": [
    "## **Державний устрій**\n",
    "\n",
    "*   Форма правління: парламентська республіка\n",
    "*   Президент: [Гвюдні Йоуганнессон](https://uk.wikipedia.org/wiki/%D0%93%D0%B2%D1%8E%D0%B4%D0%BD%D1%96_%D0%99%D0%BE%D1%83%D0%B3%D0%B0%D0%BD%D0%BD%D0%B5%D1%81%D1%81%D0%BE%D0%BD)\n",
    "*   Прем'єр-міністр: [Катрин Якобсдотті](https://uk.wikipedia.org/wiki/%D0%9A%D0%B0%D1%82%D1%80%D1%96%D0%BD_%D0%AF%D0%BA%D0%BE%D0%B1%D1%81%D0%B4%D0%BE%D1%83%D1%82%D1%82%D1%96%D1%80)"
   ]
  },
  {
   "cell_type": "markdown",
   "id": "b7a3fc1e-82ac-4cf6-89b3-21c40842191c",
   "metadata": {},
   "source": [
    "## **Видатні персоналії**\n",
    "|Ім'я | Діяльність | Фото |\n",
    "|:----------|:-----------------------------------------------------------------------|:-----------------:| \n",
    "|[Гвюдні Йоуганнессон](https://uk.wikipedia.org/wiki/%D0%93%D0%B2%D1%8E%D0%B4%D0%BD%D1%96_%D0%99%D0%BE%D1%83%D0%B3%D0%B0%D0%BD%D0%BD%D0%B5%D1%81%D1%81%D0%BE%D0%BD)|Президент Ісландії від 2016 року.|![photo](https://upload.wikimedia.org/wikipedia/commons/d/d5/Gu%C3%B0ni_Th._J%C3%B3hannesson_at_the_Enthronement_of_Naruhito_%281%29.jpg)|\n",
    "|[Катрін Якобсдоуттір](https://uk.wikipedia.org/wiki/%D0%9A%D0%B0%D1%82%D1%80%D1%96%D0%BD_%D0%AF%D0%BA%D0%BE%D0%B1%D1%81%D0%B4%D0%BE%D1%83%D1%82%D1%82%D1%96%D1%80)|Прем'єр-міністр Ісландії з 30 листопада 2017 року.|![photo](https://upload.wikimedia.org/wikipedia/commons/f/f2/Katr%C3%ADn_Jakobsd%C3%B3ttir_%2824539871465%29_%28cropped%29.jpg)|\n",
    "|[Сйон](https://uk.wikipedia.org/wiki/%D0%A1%D0%B9%D0%BE%D0%BD_(%D0%BF%D0%B8%D1%81%D1%8C%D0%BC%D0%B5%D0%BD%D0%BD%D0%B8%D0%BA))|Сігурйон Біргір Сігурссон — ісландський поет та прозаїк.|![photo](https://upload.wikimedia.org/wikipedia/commons/9/90/SjonFreeLicence.jpg)|"
   ]
  },
  {
   "cell_type": "markdown",
   "id": "f4ce0ef0-80f4-402a-9c3e-8898675c12d5",
   "metadata": {},
   "source": [
    "<div style=\"margin: 7px 0; padding: 5px; border: solid gray; border-radius: 7px;\">\n",
    "    <h2>Пам’ятки Ісландії</h2>\n",
    "</div>"
   ]
  },
  {
   "cell_type": "markdown",
   "id": "24823434-83c5-4f8b-aa2f-be0f8267402c",
   "metadata": {},
   "source": [
    "### **Долина гейзерів Хейдакалюр**\n",
    "\n",
    "Це одне з найбільш захоплюючих місць Ісландії, повне активних гарячих джерел! Саме тут знаходиться знаменитий Великий Гейзер (або Гейсір), який і дав назву всім гейзерам планети. Щоправда, останнім часом він доволі ослаб, тому більш популярним є трохи молодший і потужніший гейзер Строккюр.\n",
    "\n",
    "![photo](https://ogotour.com.ua/wp-content/uploads/sites/144/2021/02/Strokkur-Geysir.jpg)"
   ]
  },
  {
   "cell_type": "markdown",
   "id": "a173db85-20c3-4356-9b84-d901d489cd23",
   "metadata": {},
   "source": [
    "### **Льодяна печера Скафтафетль**\n",
    "\n",
    "Це кришталеве диво знаходиться на території однойменного національного парку і найбільш вигідно виглядає взимку (що логічно для льодовика). Печера вражає величезними брилами льоду різних відтінків, а при вдалому світлі навіть складається враження, що вона світиться зсередини!\n",
    "\n",
    "![photo](https://ogotour.com.ua/wp-content/uploads/sites/144/2021/02/Skaftafell-Ice-Cave.jpg)"
   ]
  },
  {
   "cell_type": "markdown",
   "id": "2f287020-86f6-49c6-aef8-3ede761f9e7f",
   "metadata": {},
   "source": [
    "### **Пляж Рейнісфьяра з чорним піском**\n",
    "\n",
    "Це похмуре, але одночасно красиве місце розташоване на південному узбережжі острова. Пляж вирізняється незвичайним чорним піском, а ще однією його родзинкою є кам’яні скелі, що виступають з води поблизу берега. Існує навіть місцева легенда, згідно якої ці скелі колись були злими тролями, які топили кораблі.\n",
    "\n",
    "![photo](https://ogotour.com.ua/wp-content/uploads/sites/144/2021/02/Reynisfjara.jpg)"
   ]
  },
  {
   "cell_type": "code",
   "execution_count": 25,
   "id": "bd150321-644a-40a2-b6db-d5daf1b75ace",
   "metadata": {},
   "outputs": [
    {
     "data": {
      "text/html": [
       "<svg xmlns=\"http://www.w3.org/2000/svg\" width=\"300\" height=\"200\">\n",
       "  <rect width=\"100%\" height=\"100%\" fill=\"rgb(0, 81, 157)\" />\n",
       "  <rect x=\"60\" y=\"0\" width=\"20\" height=\"100%\" fill=\"red\" />\n",
       "  <rect x=\"0\" y=\"50\" width=\"100%\" height=\"20\" fill=\"red\" />\n",
       "  <rect x=\"55\" y=\"0\" width=\"10\" height=\"50\" fill=\"white\" />\n",
       "  <rect x=\"55\" y=\"70\" width=\"10\" height=\"130\" fill=\"white\" />\n",
       "  <rect x=\"80\" y=\"0\" width=\"10\" height=\"50\" fill=\"white\" />\n",
       "  <rect x=\"80\" y=\"70\" width=\"10\" height=\"130\" fill=\"white\" />\n",
       "  <rect x=\"80\" y=\"40\" width=\"220\" height=\"10\" fill=\"white\" />\n",
       "  <rect x=\"0\" y=\"40\" width=\"60\" height=\"10\" fill=\"white\" />\n",
       "  <rect x=\"0\" y=\"70\" width=\"60\" height=\"10\" fill=\"white\" />\n",
       "  <rect x=\"80\" y=\"70\" width=\"220\" height=\"10\" fill=\"white\" />\n",
       "</svg>\n"
      ],
      "text/plain": [
       "<IPython.core.display.HTML object>"
      ]
     },
     "metadata": {},
     "output_type": "display_data"
    }
   ],
   "source": [
    "%%HTML\n",
    "<svg xmlns=\"http://www.w3.org/2000/svg\" width=\"300\" height=\"200\">\n",
    "  <rect width=\"100%\" height=\"100%\" fill=\"rgb(0, 81, 157)\" />\n",
    "  <rect x=\"60\" y=\"0\" width=\"20\" height=\"100%\" fill=\"red\" />\n",
    "  <rect x=\"0\" y=\"50\" width=\"100%\" height=\"20\" fill=\"red\" />\n",
    "  <rect x=\"55\" y=\"0\" width=\"10\" height=\"50\" fill=\"white\" />\n",
    "  <rect x=\"55\" y=\"70\" width=\"10\" height=\"130\" fill=\"white\" />\n",
    "  <rect x=\"80\" y=\"0\" width=\"10\" height=\"50\" fill=\"white\" />\n",
    "  <rect x=\"80\" y=\"70\" width=\"10\" height=\"130\" fill=\"white\" />\n",
    "  <rect x=\"80\" y=\"40\" width=\"220\" height=\"10\" fill=\"white\" />\n",
    "  <rect x=\"0\" y=\"40\" width=\"60\" height=\"10\" fill=\"white\" />\n",
    "  <rect x=\"0\" y=\"70\" width=\"60\" height=\"10\" fill=\"white\" />\n",
    "  <rect x=\"80\" y=\"70\" width=\"220\" height=\"10\" fill=\"white\" />\n",
    "</svg>"
   ]
  },
  {
   "cell_type": "code",
   "execution_count": 26,
   "id": "6891c1ef-d3c6-4419-bf54-0cbc65cb82e6",
   "metadata": {},
   "outputs": [
    {
     "name": "stdout",
     "output_type": "stream",
     "text": [
      " Binary Integer: 100000\n"
     ]
    }
   ],
   "source": [
    "def task7_decimal_to_binary_integer(decimal_integer):\n",
    "    binary_integer = bin(abs(decimal_integer))[2:]  \n",
    "    if decimal_integer < 0:\n",
    "        binary_integer = '-' + binary_integer\n",
    "    return binary_integer\n",
    "\n",
    "\n",
    "decimal_integer = 32\n",
    "binary_integer = decimal_to_binary_integer(decimal_integer)\n",
    "print(f\" Binary Integer: {binary_integer}\")\n"
   ]
  },
  {
   "cell_type": "code",
   "execution_count": 27,
   "id": "624f77af-f3fb-4e7a-b0fd-ae78ff7a13ae",
   "metadata": {},
   "outputs": [
    {
     "name": "stdout",
     "output_type": "stream",
     "text": [
      "Binary fractional: -1010.01000000\n"
     ]
    }
   ],
   "source": [
    "def task7_decimal_to_binary_float(decimal_float, precision=8):\n",
    "    integer_part = abs(int(decimal_float))\n",
    "    fractional_part = abs(decimal_float) - integer_part\n",
    "\n",
    "\n",
    "    binary_integer = bin(integer_part)[2:]\n",
    "\n",
    " \n",
    "    binary_fractional = ''\n",
    "    for _ in range(precision):\n",
    "        fractional_part *= 2\n",
    "        bit = int(fractional_part)\n",
    "        binary_fractional += str(bit)\n",
    "        fractional_part -= bit\n",
    "\n",
    "    binary_float = f\"{binary_integer}.{binary_fractional}\"\n",
    "\n",
    "    if decimal_float < 0:\n",
    "        binary_float = '-' + binary_float\n",
    "\n",
    "    return binary_float\n",
    "\n",
    "decimal_float = -10.25\n",
    "binary_float = decimal_to_binary_float(decimal_float)\n",
    "print(f\"Binary fractional: {binary_float}\")"
   ]
  },
  {
   "cell_type": "code",
   "execution_count": null,
   "id": "9a6586e6-f210-41ac-9205-a603aaf7aa69",
   "metadata": {},
   "outputs": [],
   "source": []
  }
 ],
 "metadata": {
  "kernelspec": {
   "display_name": "Python 3 (ipykernel)",
   "language": "python",
   "name": "python3"
  },
  "language_info": {
   "codemirror_mode": {
    "name": "ipython",
    "version": 3
   },
   "file_extension": ".py",
   "mimetype": "text/x-python",
   "name": "python",
   "nbconvert_exporter": "python",
   "pygments_lexer": "ipython3",
   "version": "3.11.7"
  }
 },
 "nbformat": 4,
 "nbformat_minor": 5
}
